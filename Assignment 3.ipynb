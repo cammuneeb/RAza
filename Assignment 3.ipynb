{
 "cells": [
  {
   "cell_type": "code",
   "execution_count": 42,
   "id": "5152c0b4",
   "metadata": {},
   "outputs": [
    {
     "name": "stdout",
     "output_type": "stream",
     "text": [
      "Twinkle, twinkle, little star,\n",
      "                  How I wonder what you are!\n",
      "                          Up above the world so high,\n",
      "                          Like a diamond in the sky.\n",
      "Twinkle, twinkle, little star,\n",
      "         How I wonder what you are\n"
     ]
    }
   ],
   "source": [
    "#Write a Python program to print the following string in a specific format (see the output).\n",
    "print('''Twinkle, twinkle, little star,\n",
    "                  How I wonder what you are!\n",
    "                          Up above the world so high,\n",
    "                          Like a diamond in the sky.\n",
    "Twinkle, twinkle, little star,\n",
    "         How I wonder what you are''');"
   ]
  },
  {
   "cell_type": "code",
   "execution_count": 43,
   "id": "5fabfb03",
   "metadata": {},
   "outputs": [
    {
     "name": "stdout",
     "output_type": "stream",
     "text": [
      "3.8.8 (default, Apr 13 2021, 15:08:03) [MSC v.1916 64 bit (AMD64)]\n"
     ]
    }
   ],
   "source": [
    "#2. Write a Python program to get the Python version you are using\n",
    "import sys\n",
    "print(sys.version);"
   ]
  },
  {
   "cell_type": "code",
   "execution_count": 44,
   "id": "0e26ecf6",
   "metadata": {},
   "outputs": [
    {
     "name": "stdout",
     "output_type": "stream",
     "text": [
      "Current date and time : \n",
      "2021-10-24 17:39:50\n"
     ]
    }
   ],
   "source": [
    "import datetime\n",
    "now = datetime.datetime.now();\n",
    "print (\"Current date and time : \");\n",
    "print (now.strftime(\"%Y-%m-%d %H:%M:%S\"));"
   ]
  },
  {
   "cell_type": "code",
   "execution_count": 45,
   "id": "0d656cf8",
   "metadata": {},
   "outputs": [
    {
     "name": "stdout",
     "output_type": "stream",
     "text": [
      "Enter the radius of circle: 2\n",
      "The area of the circle is:  12.56\n"
     ]
    }
   ],
   "source": [
    "#4. Write a Python program which accepts the radius of a circle from the user and compute the area.\n",
    "radius = int(input('Enter the radius of circle: '));\n",
    "area = 3.14*(radius**2);\n",
    "print('The area of the circle is: ', area);"
   ]
  },
  {
   "cell_type": "code",
   "execution_count": 46,
   "id": "ce1ab537",
   "metadata": {},
   "outputs": [
    {
     "name": "stdout",
     "output_type": "stream",
     "text": [
      "Enter your first name: muneeb\n",
      "Enter your last name : kamina\n",
      "kamina muneeb\n"
     ]
    }
   ],
   "source": [
    "#5. Write a Python program which accepts the user's first and last name and print them in reverse order with a space between them.\n",
    "first_name = input('Enter your first name: ');\n",
    "last_name = input('Enter your last name : ');\n",
    "result = (f'{last_name} {first_name}');\n",
    "print(result);"
   ]
  },
  {
   "cell_type": "code",
   "execution_count": 47,
   "id": "21941931",
   "metadata": {},
   "outputs": [
    {
     "name": "stdout",
     "output_type": "stream",
     "text": [
      "Enter teh first numeber: 22\n",
      "Enter the second number: 44\n",
      "The output is: 66\n"
     ]
    }
   ],
   "source": [
    "#6. Write a python program which takes two inputs from user and print them addition\n",
    "first_number =  int(input('Enter teh first numeber: '));\n",
    "second_number = int(input('Enter the second number: '));\n",
    "result = (first_number + second_number);\n",
    "print('The output is:',result);"
   ]
  },
  {
   "cell_type": "code",
   "execution_count": 49,
   "id": "5037b16c",
   "metadata": {},
   "outputs": [
    {
     "name": "stdout",
     "output_type": "stream",
     "text": [
      "Enter the Number of Maths: 66\n",
      "Enter the number of Computer: 87\n",
      "Enter the number of English: 88\n",
      "Enetr the number of Islamiat: 78\n",
      "Enetr the number of Pak_Study: 66\n",
      "your percentage is:  94.6\n",
      "Obtaibed marks are:  473\n"
     ]
    }
   ],
   "source": [
    "#7. Write a program which takes 5 inputs from user for different subject’s marks, total it and generate mark sheet using grades ?\n",
    "sub_1 = int(input('Enter the Number of Maths: '));\n",
    "sub_2 = int(input('Enter the number of Computer: '));\n",
    "sub_3 = int(input('Enter the number of English: '));\n",
    "sub_4 = int(input('Enetr the number of Islamiat: '));\n",
    "sub_5 = int(input('Enetr the number of Pak_Study: '));\n",
    "\n",
    "percentage = ((sub_1+sub_2+sub_3+sub_3+sub_4+sub_5)/500)*100;\n",
    "print('your percentage is: ',percentage);\n",
    "total_marks = sub_1+sub_2+sub_3+sub_3+sub_4+sub_5;\n",
    "print('Obtaibed marks are: ', total_marks);\n",
    "\n",
    "if percentage >= 90:\n",
    "         grade = \"A+\"; \n",
    "elif percentage <=90 and percentage >=80:    \n",
    "         grade = 'A';\n",
    "elif percentage <=80 and percentage >=70:\n",
    "         grade = 'B';\n",
    "elif percentage <=70 and percentage >=60:\n",
    "         grade = 'C';\n",
    "elif percentage <=50 and percentage >40:\n",
    "         garde = 'D';\n",
    "elif percentage <=40 and percentage >=33:\n",
    "         grade = 'F';\n",
    "else:\n",
    "         print('You have failed ..Better luck next time');\n"
   ]
  },
  {
   "cell_type": "code",
   "execution_count": 50,
   "id": "5ade6790",
   "metadata": {},
   "outputs": [
    {
     "name": "stdout",
     "output_type": "stream",
     "text": [
      "Enter the number: 55\n",
      "The number is odd\n"
     ]
    }
   ],
   "source": [
    "#8. Write a program which take input from user and identify that the given number is even or odd?\n",
    "num = int(input('Enter the number: '));\n",
    "if num%2==0:\n",
    "    print('The number is even');\n",
    "else:\n",
    "    print('The number is odd');"
   ]
  },
  {
   "cell_type": "code",
   "execution_count": 51,
   "id": "bb7d0598",
   "metadata": {},
   "outputs": [
    {
     "name": "stdout",
     "output_type": "stream",
     "text": [
      "5\n"
     ]
    }
   ],
   "source": [
    "#9. Write a program which print the length of the list?\n",
    "li = ['raza', 'muneeb', 23.44,'hasnain','sheikh'];\n",
    "print(len(li));"
   ]
  },
  {
   "cell_type": "code",
   "execution_count": 34,
   "id": "c2f3e663",
   "metadata": {},
   "outputs": [
    {
     "name": "stdout",
     "output_type": "stream",
     "text": [
      "55\n"
     ]
    }
   ],
   "source": [
    "#10.Write a Python program to sum all the numeric items in a list?\n",
    "li = [1,2,3,4,5,6,7,8,9,10];\n",
    "print(sum(li));"
   ]
  },
  {
   "cell_type": "code",
   "execution_count": 52,
   "id": "ee430469",
   "metadata": {},
   "outputs": [
    {
     "name": "stdout",
     "output_type": "stream",
     "text": [
      "5423\n"
     ]
    }
   ],
   "source": [
    "#11.Write a Python program to get the largest number from a numeric list.\n",
    "li = [3434,6,53,46,35,62,4,5,4534,3.234,3,5423,4444];\n",
    "li.sort();\n",
    "print(li[-1]);"
   ]
  },
  {
   "cell_type": "code",
   "execution_count": 53,
   "id": "b2700c62",
   "metadata": {},
   "outputs": [
    {
     "name": "stdout",
     "output_type": "stream",
     "text": [
      "[1, 1, 2, 3]\n"
     ]
    }
   ],
   "source": [
    "#12. Take a list, say for example this one: a = [1, 1, 2, 3, 5, 8, 13, 21, 34, 55, 89]\n",
    "#Write a program that prints out all the elements of the list that are less than 5.\n",
    "a = [1, 1, 2, 3, 5, 8, 13, 21, 34, 55, 89]\n",
    "print(a[0:4]);"
   ]
  },
  {
   "cell_type": "code",
   "execution_count": null,
   "id": "f30b072e",
   "metadata": {},
   "outputs": [],
   "source": []
  }
 ],
 "metadata": {
  "kernelspec": {
   "display_name": "Python 3",
   "language": "python",
   "name": "python3"
  },
  "language_info": {
   "codemirror_mode": {
    "name": "ipython",
    "version": 3
   },
   "file_extension": ".py",
   "mimetype": "text/x-python",
   "name": "python",
   "nbconvert_exporter": "python",
   "pygments_lexer": "ipython3",
   "version": "3.8.8"
  }
 },
 "nbformat": 4,
 "nbformat_minor": 5
}
